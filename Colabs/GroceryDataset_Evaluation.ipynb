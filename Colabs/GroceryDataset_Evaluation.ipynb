{
  "nbformat": 4,
  "nbformat_minor": 0,
  "metadata": {
    "colab": {
      "name": "GroceryDataset_Evaluation.ipynb",
      "provenance": [],
      "collapsed_sections": [],
      "authorship_tag": "ABX9TyOWeIody1bRL4UEXDyeFd/V",
      "include_colab_link": true
    },
    "kernelspec": {
      "name": "python3",
      "display_name": "Python 3"
    },
    "accelerator": "GPU"
  },
  "cells": [
    {
      "cell_type": "markdown",
      "metadata": {
        "id": "view-in-github",
        "colab_type": "text"
      },
      "source": [
        "<a href=\"https://colab.research.google.com/github/sayakpaul/Grocery-Product-Detection/blob/main/Colabs/GroceryDataset_Evaluation.ipynb\" target=\"_parent\"><img src=\"https://colab.research.google.com/assets/colab-badge.svg\" alt=\"Open In Colab\"/></a>"
      ]
    },
    {
      "cell_type": "markdown",
      "metadata": {
        "id": "v2N7NkgwwY0J"
      },
      "source": [
        "This notebook generates recall and precision scores (for 0.5IOU) on the test grocery dataset with the model trained in `Colabs/GroceryDataset_Model_Training.ipynb` notebook. "
      ]
    },
    {
      "cell_type": "markdown",
      "metadata": {
        "id": "hhEPQw5DwpOi"
      },
      "source": [
        "## Initial setup"
      ]
    },
    {
      "cell_type": "code",
      "metadata": {
        "id": "NODfSF7_tSup"
      },
      "source": [
        "# Install TFOD API (TF 1)\n",
        "%tensorflow_version 1.x\n",
        "import tensorflow as tf \n",
        "print(tf.__version__)\n",
        "\n",
        "!git clone https://github.com/tensorflow/models.git\n",
        "\n",
        "% cd models/research\n",
        "!pip install --upgrade pip\n",
        "# Compile protos.\n",
        "!protoc object_detection/protos/*.proto --python_out=.\n",
        "# Install TensorFlow Object Detection API.\n",
        "!cp object_detection/packages/tf1/setup.py .\n",
        "!python -m pip install --use-feature=2020-resolver ."
      ],
      "execution_count": null,
      "outputs": []
    },
    {
      "cell_type": "markdown",
      "metadata": {
        "id": "V1-24eTVwrIl"
      },
      "source": [
        "## Gather test record file, trained model graph and `.pbtxt`"
      ]
    },
    {
      "cell_type": "code",
      "metadata": {
        "id": "NmKymBcZtZCJ"
      },
      "source": [
        "from google.colab import drive\n",
        "drive.mount('/content/drive')"
      ],
      "execution_count": null,
      "outputs": []
    },
    {
      "cell_type": "code",
      "metadata": {
        "id": "vqpDHUi8tc8N"
      },
      "source": [
        "!cp -r /content/drive/MyDrive/product-detection/test.record .\n",
        "!cp -r /content/drive/MyDrive/product-detection/label_map.pbtxt .\n",
        "!cp -r /content/drive/MyDrive/product-detection/fp32/frozen_inference_graph.pb ."
      ],
      "execution_count": 4,
      "outputs": []
    },
    {
      "cell_type": "markdown",
      "metadata": {
        "id": "oUxSjOu3wx8S"
      },
      "source": [
        "## Gather detections"
      ]
    },
    {
      "cell_type": "code",
      "metadata": {
        "colab": {
          "base_uri": "https://localhost:8080/"
        },
        "id": "4ryXl_Z1uDmf",
        "outputId": "32164e5a-96ba-4b32-f4c4-2429c44ade66"
      },
      "source": [
        "# Infer detections on a TFRecord of TFExamples given an inference graph.\n",
        "!python object_detection/inference/infer_detections.py \\\n",
        "    --input_tfrecord_paths=test.record \\\n",
        "    --output_tfrecord_path=detections.tfrecord \\\n",
        "    --inference_graph=frozen_inference_graph.pb"
      ],
      "execution_count": 5,
      "outputs": [
        {
          "output_type": "stream",
          "text": [
            "2021-01-17 05:03:42.074377: I tensorflow/stream_executor/platform/default/dso_loader.cc:44] Successfully opened dynamic library libcuda.so.1\n",
            "2021-01-17 05:03:42.129133: I tensorflow/stream_executor/cuda/cuda_gpu_executor.cc:983] successful NUMA node read from SysFS had negative value (-1), but there must be at least one NUMA node, so returning NUMA node zero\n",
            "2021-01-17 05:03:42.129711: I tensorflow/core/common_runtime/gpu/gpu_device.cc:1639] Found device 0 with properties: \n",
            "name: Tesla T4 major: 7 minor: 5 memoryClockRate(GHz): 1.59\n",
            "pciBusID: 0000:00:04.0\n",
            "2021-01-17 05:03:42.129973: I tensorflow/stream_executor/platform/default/dso_loader.cc:44] Successfully opened dynamic library libcudart.so.10.1\n",
            "2021-01-17 05:03:42.339943: I tensorflow/stream_executor/platform/default/dso_loader.cc:44] Successfully opened dynamic library libcublas.so.10\n",
            "2021-01-17 05:03:42.476808: I tensorflow/stream_executor/platform/default/dso_loader.cc:44] Successfully opened dynamic library libcufft.so.10\n",
            "2021-01-17 05:03:42.494707: I tensorflow/stream_executor/platform/default/dso_loader.cc:44] Successfully opened dynamic library libcurand.so.10\n",
            "2021-01-17 05:03:42.777543: I tensorflow/stream_executor/platform/default/dso_loader.cc:44] Successfully opened dynamic library libcusolver.so.10\n",
            "2021-01-17 05:03:42.813669: I tensorflow/stream_executor/platform/default/dso_loader.cc:44] Successfully opened dynamic library libcusparse.so.10\n",
            "2021-01-17 05:03:43.343806: I tensorflow/stream_executor/platform/default/dso_loader.cc:44] Successfully opened dynamic library libcudnn.so.7\n",
            "2021-01-17 05:03:43.343989: I tensorflow/stream_executor/cuda/cuda_gpu_executor.cc:983] successful NUMA node read from SysFS had negative value (-1), but there must be at least one NUMA node, so returning NUMA node zero\n",
            "2021-01-17 05:03:43.344652: I tensorflow/stream_executor/cuda/cuda_gpu_executor.cc:983] successful NUMA node read from SysFS had negative value (-1), but there must be at least one NUMA node, so returning NUMA node zero\n",
            "2021-01-17 05:03:43.345161: I tensorflow/core/common_runtime/gpu/gpu_device.cc:1767] Adding visible gpu devices: 0\n",
            "2021-01-17 05:03:43.387527: I tensorflow/core/platform/profile_utils/cpu_utils.cc:94] CPU Frequency: 2199995000 Hz\n",
            "2021-01-17 05:03:43.387784: I tensorflow/compiler/xla/service/service.cc:168] XLA service 0x21bea00 initialized for platform Host (this does not guarantee that XLA will be used). Devices:\n",
            "2021-01-17 05:03:43.387821: I tensorflow/compiler/xla/service/service.cc:176]   StreamExecutor device (0): Host, Default Version\n",
            "2021-01-17 05:03:43.523973: I tensorflow/stream_executor/cuda/cuda_gpu_executor.cc:983] successful NUMA node read from SysFS had negative value (-1), but there must be at least one NUMA node, so returning NUMA node zero\n",
            "2021-01-17 05:03:43.524620: I tensorflow/compiler/xla/service/service.cc:168] XLA service 0x21bef40 initialized for platform CUDA (this does not guarantee that XLA will be used). Devices:\n",
            "2021-01-17 05:03:43.524648: I tensorflow/compiler/xla/service/service.cc:176]   StreamExecutor device (0): Tesla T4, Compute Capability 7.5\n",
            "2021-01-17 05:03:43.525802: I tensorflow/stream_executor/cuda/cuda_gpu_executor.cc:983] successful NUMA node read from SysFS had negative value (-1), but there must be at least one NUMA node, so returning NUMA node zero\n",
            "2021-01-17 05:03:43.526319: I tensorflow/core/common_runtime/gpu/gpu_device.cc:1639] Found device 0 with properties: \n",
            "name: Tesla T4 major: 7 minor: 5 memoryClockRate(GHz): 1.59\n",
            "pciBusID: 0000:00:04.0\n",
            "2021-01-17 05:03:43.526370: I tensorflow/stream_executor/platform/default/dso_loader.cc:44] Successfully opened dynamic library libcudart.so.10.1\n",
            "2021-01-17 05:03:43.526391: I tensorflow/stream_executor/platform/default/dso_loader.cc:44] Successfully opened dynamic library libcublas.so.10\n",
            "2021-01-17 05:03:43.526411: I tensorflow/stream_executor/platform/default/dso_loader.cc:44] Successfully opened dynamic library libcufft.so.10\n",
            "2021-01-17 05:03:43.526574: I tensorflow/stream_executor/platform/default/dso_loader.cc:44] Successfully opened dynamic library libcurand.so.10\n",
            "2021-01-17 05:03:43.526615: I tensorflow/stream_executor/platform/default/dso_loader.cc:44] Successfully opened dynamic library libcusolver.so.10\n",
            "2021-01-17 05:03:43.526642: I tensorflow/stream_executor/platform/default/dso_loader.cc:44] Successfully opened dynamic library libcusparse.so.10\n",
            "2021-01-17 05:03:43.526661: I tensorflow/stream_executor/platform/default/dso_loader.cc:44] Successfully opened dynamic library libcudnn.so.7\n",
            "2021-01-17 05:03:43.526737: I tensorflow/stream_executor/cuda/cuda_gpu_executor.cc:983] successful NUMA node read from SysFS had negative value (-1), but there must be at least one NUMA node, so returning NUMA node zero\n",
            "2021-01-17 05:03:43.527293: I tensorflow/stream_executor/cuda/cuda_gpu_executor.cc:983] successful NUMA node read from SysFS had negative value (-1), but there must be at least one NUMA node, so returning NUMA node zero\n",
            "2021-01-17 05:03:43.527801: I tensorflow/core/common_runtime/gpu/gpu_device.cc:1767] Adding visible gpu devices: 0\n",
            "2021-01-17 05:03:43.530929: I tensorflow/stream_executor/platform/default/dso_loader.cc:44] Successfully opened dynamic library libcudart.so.10.1\n",
            "2021-01-17 05:03:43.532015: I tensorflow/core/common_runtime/gpu/gpu_device.cc:1180] Device interconnect StreamExecutor with strength 1 edge matrix:\n",
            "2021-01-17 05:03:43.532042: I tensorflow/core/common_runtime/gpu/gpu_device.cc:1186]      0 \n",
            "2021-01-17 05:03:43.532053: I tensorflow/core/common_runtime/gpu/gpu_device.cc:1199] 0:   N \n",
            "2021-01-17 05:03:43.533050: I tensorflow/stream_executor/cuda/cuda_gpu_executor.cc:983] successful NUMA node read from SysFS had negative value (-1), but there must be at least one NUMA node, so returning NUMA node zero\n",
            "2021-01-17 05:03:43.533654: I tensorflow/stream_executor/cuda/cuda_gpu_executor.cc:983] successful NUMA node read from SysFS had negative value (-1), but there must be at least one NUMA node, so returning NUMA node zero\n",
            "2021-01-17 05:03:43.534164: W tensorflow/core/common_runtime/gpu/gpu_bfc_allocator.cc:39] Overriding allow_growth setting because the TF_FORCE_GPU_ALLOW_GROWTH environment variable is set. Original config value was 0.\n",
            "2021-01-17 05:03:43.534207: I tensorflow/core/common_runtime/gpu/gpu_device.cc:1325] Created TensorFlow device (/job:localhost/replica:0/task:0/device:GPU:0 with 14221 MB memory) -> physical GPU (device: 0, name: Tesla T4, pci bus id: 0000:00:04.0, compute capability: 7.5)\n",
            "INFO:tensorflow:Reading input from 1 files\n",
            "I0117 05:03:43.535016 140173022476160 infer_detections.py:68] Reading input from 1 files\n",
            "WARNING:tensorflow:From /usr/local/lib/python3.6/dist-packages/object_detection/inference/detection_inference.py:35: string_input_producer (from tensorflow.python.training.input) is deprecated and will be removed in a future version.\n",
            "Instructions for updating:\n",
            "Queue-based input pipelines have been replaced by `tf.data`. Use `tf.data.Dataset.from_tensor_slices(string_tensor).shuffle(tf.shape(input_tensor, out_type=tf.int64)[0]).repeat(num_epochs)`. If `shuffle=False`, omit the `.shuffle(...)`.\n",
            "W0117 05:03:43.535319 140173022476160 deprecation.py:323] From /usr/local/lib/python3.6/dist-packages/object_detection/inference/detection_inference.py:35: string_input_producer (from tensorflow.python.training.input) is deprecated and will be removed in a future version.\n",
            "Instructions for updating:\n",
            "Queue-based input pipelines have been replaced by `tf.data`. Use `tf.data.Dataset.from_tensor_slices(string_tensor).shuffle(tf.shape(input_tensor, out_type=tf.int64)[0]).repeat(num_epochs)`. If `shuffle=False`, omit the `.shuffle(...)`.\n",
            "WARNING:tensorflow:From /tensorflow-1.15.2/python3.6/tensorflow_core/python/training/input.py:277: input_producer (from tensorflow.python.training.input) is deprecated and will be removed in a future version.\n",
            "Instructions for updating:\n",
            "Queue-based input pipelines have been replaced by `tf.data`. Use `tf.data.Dataset.from_tensor_slices(input_tensor).shuffle(tf.shape(input_tensor, out_type=tf.int64)[0]).repeat(num_epochs)`. If `shuffle=False`, omit the `.shuffle(...)`.\n",
            "W0117 05:03:43.543190 140173022476160 deprecation.py:323] From /tensorflow-1.15.2/python3.6/tensorflow_core/python/training/input.py:277: input_producer (from tensorflow.python.training.input) is deprecated and will be removed in a future version.\n",
            "Instructions for updating:\n",
            "Queue-based input pipelines have been replaced by `tf.data`. Use `tf.data.Dataset.from_tensor_slices(input_tensor).shuffle(tf.shape(input_tensor, out_type=tf.int64)[0]).repeat(num_epochs)`. If `shuffle=False`, omit the `.shuffle(...)`.\n",
            "WARNING:tensorflow:From /tensorflow-1.15.2/python3.6/tensorflow_core/python/training/input.py:189: limit_epochs (from tensorflow.python.training.input) is deprecated and will be removed in a future version.\n",
            "Instructions for updating:\n",
            "Queue-based input pipelines have been replaced by `tf.data`. Use `tf.data.Dataset.from_tensors(tensor).repeat(num_epochs)`.\n",
            "W0117 05:03:43.543433 140173022476160 deprecation.py:323] From /tensorflow-1.15.2/python3.6/tensorflow_core/python/training/input.py:189: limit_epochs (from tensorflow.python.training.input) is deprecated and will be removed in a future version.\n",
            "Instructions for updating:\n",
            "Queue-based input pipelines have been replaced by `tf.data`. Use `tf.data.Dataset.from_tensors(tensor).repeat(num_epochs)`.\n",
            "WARNING:tensorflow:From /tensorflow-1.15.2/python3.6/tensorflow_core/python/training/input.py:112: RefVariable.count_up_to (from tensorflow.python.ops.variables) is deprecated and will be removed in a future version.\n",
            "Instructions for updating:\n",
            "Prefer Dataset.range instead.\n",
            "W0117 05:03:43.545886 140173022476160 deprecation.py:323] From /tensorflow-1.15.2/python3.6/tensorflow_core/python/training/input.py:112: RefVariable.count_up_to (from tensorflow.python.ops.variables) is deprecated and will be removed in a future version.\n",
            "Instructions for updating:\n",
            "Prefer Dataset.range instead.\n",
            "WARNING:tensorflow:From /tensorflow-1.15.2/python3.6/tensorflow_core/python/ops/variables.py:2522: count_up_to (from tensorflow.python.ops.state_ops) is deprecated and will be removed in a future version.\n",
            "Instructions for updating:\n",
            "Prefer Dataset.range instead.\n",
            "W0117 05:03:43.546039 140173022476160 deprecation.py:323] From /tensorflow-1.15.2/python3.6/tensorflow_core/python/ops/variables.py:2522: count_up_to (from tensorflow.python.ops.state_ops) is deprecated and will be removed in a future version.\n",
            "Instructions for updating:\n",
            "Prefer Dataset.range instead.\n",
            "WARNING:tensorflow:From /tensorflow-1.15.2/python3.6/tensorflow_core/python/training/input.py:198: QueueRunner.__init__ (from tensorflow.python.training.queue_runner_impl) is deprecated and will be removed in a future version.\n",
            "Instructions for updating:\n",
            "To construct input pipelines, use the `tf.data` module.\n",
            "W0117 05:03:43.548122 140173022476160 deprecation.py:323] From /tensorflow-1.15.2/python3.6/tensorflow_core/python/training/input.py:198: QueueRunner.__init__ (from tensorflow.python.training.queue_runner_impl) is deprecated and will be removed in a future version.\n",
            "Instructions for updating:\n",
            "To construct input pipelines, use the `tf.data` module.\n",
            "WARNING:tensorflow:From /tensorflow-1.15.2/python3.6/tensorflow_core/python/training/input.py:198: add_queue_runner (from tensorflow.python.training.queue_runner_impl) is deprecated and will be removed in a future version.\n",
            "Instructions for updating:\n",
            "To construct input pipelines, use the `tf.data` module.\n",
            "W0117 05:03:43.548985 140173022476160 deprecation.py:323] From /tensorflow-1.15.2/python3.6/tensorflow_core/python/training/input.py:198: add_queue_runner (from tensorflow.python.training.queue_runner_impl) is deprecated and will be removed in a future version.\n",
            "Instructions for updating:\n",
            "To construct input pipelines, use the `tf.data` module.\n",
            "WARNING:tensorflow:From /usr/local/lib/python3.6/dist-packages/object_detection/inference/detection_inference.py:37: TFRecordReader.__init__ (from tensorflow.python.ops.io_ops) is deprecated and will be removed in a future version.\n",
            "Instructions for updating:\n",
            "Queue-based input pipelines have been replaced by `tf.data`. Use `tf.data.TFRecordDataset`.\n",
            "W0117 05:03:43.551604 140173022476160 deprecation.py:323] From /usr/local/lib/python3.6/dist-packages/object_detection/inference/detection_inference.py:37: TFRecordReader.__init__ (from tensorflow.python.ops.io_ops) is deprecated and will be removed in a future version.\n",
            "Instructions for updating:\n",
            "Queue-based input pipelines have been replaced by `tf.data`. Use `tf.data.TFRecordDataset`.\n",
            "INFO:tensorflow:Reading graph and building model...\n",
            "I0117 05:03:43.601991 140173022476160 infer_detections.py:71] Reading graph and building model...\n",
            "INFO:tensorflow:Running inference and writing output to detections.tfrecord\n",
            "I0117 05:03:44.118191 140173022476160 infer_detections.py:77] Running inference and writing output to detections.tfrecord\n",
            "WARNING:tensorflow:From object_detection/inference/infer_detections.py:79: start_queue_runners (from tensorflow.python.training.queue_runner_impl) is deprecated and will be removed in a future version.\n",
            "Instructions for updating:\n",
            "To construct input pipelines, use the `tf.data` module.\n",
            "W0117 05:03:44.244344 140173022476160 deprecation.py:323] From object_detection/inference/infer_detections.py:79: start_queue_runners (from tensorflow.python.training.queue_runner_impl) is deprecated and will be removed in a future version.\n",
            "Instructions for updating:\n",
            "To construct input pipelines, use the `tf.data` module.\n",
            "INFO:tensorflow:Processed 0 images...\n",
            "I0117 05:03:44.245532 140173022476160 infer_detections.py:85] Processed 0 images...\n",
            "2021-01-17 05:03:52.637267: I tensorflow/stream_executor/platform/default/dso_loader.cc:44] Successfully opened dynamic library libcudnn.so.7\n",
            "2021-01-17 05:03:57.622933: I tensorflow/stream_executor/platform/default/dso_loader.cc:44] Successfully opened dynamic library libcublas.so.10\n",
            "INFO:tensorflow:Processed 10 images...\n",
            "I0117 05:04:00.423272 140173022476160 infer_detections.py:85] Processed 10 images...\n",
            "INFO:tensorflow:Processed 20 images...\n",
            "I0117 05:04:01.004000 140173022476160 infer_detections.py:85] Processed 20 images...\n",
            "INFO:tensorflow:Processed 30 images...\n",
            "I0117 05:04:01.539517 140173022476160 infer_detections.py:85] Processed 30 images...\n",
            "INFO:tensorflow:Processed 40 images...\n",
            "I0117 05:04:01.963958 140173022476160 infer_detections.py:85] Processed 40 images...\n",
            "INFO:tensorflow:Processed 50 images...\n",
            "I0117 05:04:02.487344 140173022476160 infer_detections.py:85] Processed 50 images...\n",
            "INFO:tensorflow:Processed 60 images...\n",
            "I0117 05:04:03.097824 140173022476160 infer_detections.py:85] Processed 60 images...\n",
            "INFO:tensorflow:Processed 70 images...\n",
            "I0117 05:04:03.543481 140173022476160 infer_detections.py:85] Processed 70 images...\n",
            "INFO:tensorflow:Finished processing records\n",
            "I0117 05:04:03.618737 140173022476160 infer_detections.py:92] Finished processing records\n"
          ],
          "name": "stdout"
        }
      ]
    },
    {
      "cell_type": "markdown",
      "metadata": {
        "id": "y21jZm5xw0DR"
      },
      "source": [
        "## Generate metrics"
      ]
    },
    {
      "cell_type": "code",
      "metadata": {
        "colab": {
          "base_uri": "https://localhost:8080/"
        },
        "id": "16wWX30MujMg",
        "outputId": "97fa96a8-0c03-4602-a105-0742c3582593"
      },
      "source": [
        "!git clone https://github.com/svpino/tf_object_detection_cm"
      ],
      "execution_count": 6,
      "outputs": [
        {
          "output_type": "stream",
          "text": [
            "Cloning into 'tf_object_detection_cm'...\n",
            "remote: Enumerating objects: 4, done.\u001b[K\n",
            "remote: Counting objects: 100% (4/4), done.\u001b[K\n",
            "remote: Compressing objects: 100% (4/4), done.\u001b[K\n",
            "remote: Total 35 (delta 0), reused 3 (delta 0), pack-reused 31\u001b[K\n",
            "Unpacking objects: 100% (35/35), done.\n"
          ],
          "name": "stdout"
        }
      ]
    },
    {
      "cell_type": "code",
      "metadata": {
        "colab": {
          "base_uri": "https://localhost:8080/"
        },
        "id": "IQS10XALux3H",
        "outputId": "5eba49cf-2a1a-49f2-92db-7fd84fc4fde4"
      },
      "source": [
        "!python tf_object_detection_cm/confusion_matrix.py \\\n",
        "    --detections_record=detections.tfrecord \\\n",
        "    --label_map=label_map.pbtxt \\\n",
        "    --output_path=confusion_matrix.csv"
      ],
      "execution_count": 7,
      "outputs": [
        {
          "output_type": "stream",
          "text": [
            "WARNING:tensorflow:From tf_object_detection_cm/confusion_matrix.py:142: The name tf.app.run is deprecated. Please use tf.compat.v1.app.run instead.\n",
            "\n",
            "WARNING:tensorflow:From tf_object_detection_cm/confusion_matrix.py:38: tf_record_iterator (from tensorflow.python.lib.io.tf_record) is deprecated and will be removed in a future version.\n",
            "Instructions for updating:\n",
            "Use eager execution and: \n",
            "`tf.data.TFRecordDataset(path)`\n",
            "W0117 05:06:05.042840 139941604333440 deprecation.py:323] From tf_object_detection_cm/confusion_matrix.py:38: tf_record_iterator (from tensorflow.python.lib.io.tf_record) is deprecated and will be removed in a future version.\n",
            "Instructions for updating:\n",
            "Use eager execution and: \n",
            "`tf.data.TFRecordDataset(path)`\n",
            "Processed 71 images\n",
            "\n",
            "Confusion Matrix:\n",
            "[[1.964e+03 0.000e+00 8.000e+00 0.000e+00 2.000e+00 1.000e+00 1.300e+01\n",
            "  7.000e+00 3.000e+00 0.000e+00 1.000e+00 2.400e+01]\n",
            " [0.000e+00 4.700e+01 0.000e+00 0.000e+00 0.000e+00 0.000e+00 0.000e+00\n",
            "  0.000e+00 0.000e+00 0.000e+00 0.000e+00 0.000e+00]\n",
            " [2.900e+01 0.000e+00 2.200e+02 0.000e+00 0.000e+00 0.000e+00 0.000e+00\n",
            "  0.000e+00 0.000e+00 0.000e+00 0.000e+00 3.000e+00]\n",
            " [6.000e+00 0.000e+00 0.000e+00 1.000e+01 0.000e+00 0.000e+00 0.000e+00\n",
            "  3.000e+00 0.000e+00 0.000e+00 0.000e+00 2.000e+00]\n",
            " [6.000e+00 0.000e+00 0.000e+00 0.000e+00 8.900e+01 0.000e+00 0.000e+00\n",
            "  0.000e+00 0.000e+00 0.000e+00 0.000e+00 0.000e+00]\n",
            " [1.000e+00 0.000e+00 0.000e+00 0.000e+00 0.000e+00 2.200e+01 0.000e+00\n",
            "  0.000e+00 0.000e+00 0.000e+00 0.000e+00 1.000e+00]\n",
            " [9.000e+00 0.000e+00 0.000e+00 0.000e+00 0.000e+00 0.000e+00 4.100e+01\n",
            "  0.000e+00 0.000e+00 0.000e+00 0.000e+00 2.000e+00]\n",
            " [4.000e+00 0.000e+00 0.000e+00 0.000e+00 0.000e+00 0.000e+00 0.000e+00\n",
            "  7.500e+01 0.000e+00 0.000e+00 0.000e+00 2.000e+00]\n",
            " [4.000e+00 0.000e+00 0.000e+00 0.000e+00 0.000e+00 0.000e+00 0.000e+00\n",
            "  0.000e+00 2.800e+01 0.000e+00 0.000e+00 0.000e+00]\n",
            " [1.000e+01 0.000e+00 0.000e+00 0.000e+00 0.000e+00 0.000e+00 0.000e+00\n",
            "  0.000e+00 0.000e+00 2.000e+00 0.000e+00 0.000e+00]\n",
            " [5.000e+00 0.000e+00 0.000e+00 0.000e+00 0.000e+00 0.000e+00 0.000e+00\n",
            "  0.000e+00 0.000e+00 0.000e+00 4.000e+00 0.000e+00]\n",
            " [6.100e+01 0.000e+00 1.100e+01 6.000e+00 7.000e+00 2.000e+00 7.000e+00\n",
            "  2.000e+01 1.000e+00 6.000e+00 1.000e+00 0.000e+00]] \n",
            "\n",
            "   category  ...  recall_@0.5IOU\n",
            "0         1  ...        0.970835\n",
            "1         2  ...        1.000000\n",
            "2         5  ...        0.936842\n",
            "3         8  ...        0.925926\n",
            "4         4  ...        0.476190\n",
            "5         7  ...        0.788462\n",
            "6        11  ...        0.444444\n",
            "7         3  ...        0.873016\n",
            "8         6  ...        0.916667\n",
            "9         9  ...        0.875000\n",
            "10       10  ...        0.166667\n",
            "\n",
            "[11 rows x 3 columns]\n"
          ],
          "name": "stdout"
        }
      ]
    }
  ]
}